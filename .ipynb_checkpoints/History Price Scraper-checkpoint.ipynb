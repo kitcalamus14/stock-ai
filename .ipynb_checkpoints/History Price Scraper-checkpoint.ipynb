{
 "cells": [
  {
   "cell_type": "markdown",
   "metadata": {},
   "source": [
    "need to have demographic.csv in directory"
   ]
  },
  {
   "cell_type": "code",
   "execution_count": 1,
   "metadata": {},
   "outputs": [
    {
     "name": "stdout",
     "output_type": "stream",
     "text": [
      "Requirement already satisfied: selenium in c:\\users\\kit\\anaconda3\\lib\\site-packages (3.141.0)\n",
      "Requirement already satisfied: urllib3 in c:\\users\\kit\\anaconda3\\lib\\site-packages (from selenium) (1.25.11)\n"
     ]
    }
   ],
   "source": [
    "!pip install selenium"
   ]
  },
  {
   "cell_type": "code",
   "execution_count": 2,
   "metadata": {},
   "outputs": [],
   "source": [
    "import pandas as pd\n",
    "import selenium\n",
    "from selenium import webdriver\n",
    "from selenium.webdriver.common.keys import Keys\n",
    "from selenium.webdriver.chrome.options import Options\n",
    "from selenium.webdriver.support.ui import Select\n",
    "import time\n",
    "import re\n",
    "import urllib, json\n",
    "import csv\n",
    "from urllib.request import Request, urlopen\n",
    "from IPython.display import clear_output"
   ]
  },
  {
   "cell_type": "code",
   "execution_count": 3,
   "metadata": {},
   "outputs": [],
   "source": [
    "demo_df = pd.read_csv('demographic.csv')\n",
    "demo_df.code = demo_df.code.astype('str')\n",
    "bursa_site = demo_df.iloc[:,2]"
   ]
  },
  {
   "cell_type": "code",
   "execution_count": 4,
   "metadata": {},
   "outputs": [],
   "source": [
    "CHROME_PATH = 'C:\\Program Files (x86)\\Google\\Chrome\\Application\\chrome.exe'\n",
    "chrome_options = Options()\n",
    "chrome_options.add_argument(\"--headless\")\n",
    "WINDOW_SIZE = \"1920,1080\"\n",
    "# chrome_options.add_argument(\"--window-size=%s\" % WINDOW_SIZE)\n",
    "chrome_options.add_argument('--disable-gpu')\n",
    "header = {'User-Agent': 'Mozilla/5.0'}"
   ]
  },
  {
   "cell_type": "code",
   "execution_count": 5,
   "metadata": {},
   "outputs": [],
   "source": [
    "link = 'https://ws20.bursamalaysia.com/api/v2/stock_price_data?stock_code='\n",
    "link2 = '&mode=historical&from_date='\n",
    "date = '20160111'\n",
    "link3 = '&ws_a='\n",
    "link4 = '&ws_m='"
   ]
  },
  {
   "cell_type": "code",
   "execution_count": null,
   "metadata": {},
   "outputs": [],
   "source": [
    "df2 = pd.DataFrame()\n",
    "df2.index.name = 'code'\n",
    "x=True\n",
    "while x==True:\n",
    "    try:\n",
    "        try:\n",
    "            doneindex = pd.read_csv('donelist.csv').values\n",
    "            doneindex = np.ndarray.flatten(w).tolist()\n",
    "        except:\n",
    "            demo = pd.DataFrame(list())\n",
    "            doneindex = pd.read_csv('donelist.csv').values\n",
    "            doneindex = np.ndarray.flatten(w).tolist()\n",
    "        for index,entry in enumerate(bursa_site):\n",
    "            if len(doneindex) > 782:\n",
    "                clear_output(wait=True)\n",
    "                print('breaking for completion')\n",
    "                break\n",
    "            if index in doneindex:\n",
    "                clear_output(wait=True)\n",
    "                print('previously done loop',index)\n",
    "                continue\n",
    "            else:\n",
    "                driver = webdriver.Chrome('chromedriver.exe',options=chrome_options)\n",
    "                driver.get(entry)\n",
    "    #             time.sleep(1)\n",
    "                target = driver.find_element_by_xpath('//div[@id=\"stockChartContainer\"]')\n",
    "    #             time.sleep(1)\n",
    "                text = target.get_attribute('outerHTML')\n",
    "    #             time.sleep(1)\n",
    "                code = re.findall(r'data-stock-code=\"(.+?)\"',text)\n",
    "                wsa = re.findall(r'ws-a=\"(.+?)\"',text)\n",
    "                wsm = re.findall(r'ws-m=\"(.+?)\"',text)\n",
    "                dt = '20160111'\n",
    "                outputlink = link+code[0]+link2+dt+link3+wsa[0]+link4+wsm[0]\n",
    "                req = Request(url=outputlink, headers = header)\n",
    "                response = urlopen(req).read()\n",
    "                response2 = response.decode('utf-8').strip()\n",
    "                json1 = json.loads(response2)\n",
    "                lst = json1['historical_data']['data']\n",
    "                date1 = []\n",
    "                price = []\n",
    "                vol = []\n",
    "                for entry1 in lst:\n",
    "                    date1.append(entry1['date'])\n",
    "                    price.append(entry1['low'])\n",
    "                    vol.append(entry1['vol'])\n",
    "                jdate = date1[:-1]\n",
    "                price = price[:-1]\n",
    "                vol = vol[:-1]\n",
    "                code = json1['historical_data']['data'][0]['id']\n",
    "                date = []\n",
    "                for entry2 in jdate:\n",
    "                    d = time.gmtime(entry2/1000)\n",
    "                    d = time.strftime('%Y-%m-%d',d)\n",
    "                    date.append(d)\n",
    "                date.insert(0,'code')\n",
    "                price.insert(0,str(code))\n",
    "                dat1 = pd.DataFrame(data = [price],columns=date)\n",
    "                df2 = df2.append(dat1)\n",
    "                driver.close()\n",
    "                doneindex.append(index)\n",
    "                clear_output(wait=True)\n",
    "                finaldat = pd.merge(demo_df,df2,left_on='code',right_on='code',how='left')\n",
    "                finaldat.to_csv('data.csv',index=False,index_label=False)\n",
    "                pd.Series(doneindex).to_csv('donelist.csv',index=False,index_label=False)\n",
    "                print('done loop:', index)\n",
    "        if len(doneindex) > 3:\n",
    "            x=False\n",
    "            break\n",
    "    except:\n",
    "        continue\n",
    "df2.code.astype('str')"
   ]
  },
  {
   "cell_type": "code",
   "execution_count": 3,
   "metadata": {},
   "outputs": [],
   "source": [
    "dlist = pd.DataFrame(list())\n",
    "dlist.to_csv('donelist.csv')"
   ]
  },
  {
   "cell_type": "code",
   "execution_count": 5,
   "metadata": {},
   "outputs": [
    {
     "name": "stdout",
     "output_type": "stream",
     "text": [
      "done\n"
     ]
    }
   ],
   "source": [
    "k = 1\n",
    "w = True\n",
    "while w == True:\n",
    "    try:\n",
    "        k = k+1\n",
    "        if k == 5:\n",
    "            w = False\n",
    "            print('done')\n",
    "    except:\n",
    "        break"
   ]
  },
  {
   "cell_type": "code",
   "execution_count": null,
   "metadata": {},
   "outputs": [],
   "source": []
  }
 ],
 "metadata": {
  "kernelspec": {
   "display_name": "Python 3",
   "language": "python",
   "name": "python3"
  },
  "language_info": {
   "codemirror_mode": {
    "name": "ipython",
    "version": 3
   },
   "file_extension": ".py",
   "mimetype": "text/x-python",
   "name": "python",
   "nbconvert_exporter": "python",
   "pygments_lexer": "ipython3",
   "version": "3.8.3"
  }
 },
 "nbformat": 4,
 "nbformat_minor": 4
}
