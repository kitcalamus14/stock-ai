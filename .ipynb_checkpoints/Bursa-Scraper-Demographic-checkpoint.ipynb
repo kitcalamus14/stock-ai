{
 "cells": [
  {
   "cell_type": "code",
   "execution_count": 1,
   "metadata": {},
   "outputs": [],
   "source": [
    "# defaultlink = 'https://www.bursamalaysia.com/trade/trading_resources/listing_directory/'\n",
    "\n",
    "# calllink1 = 'main_market'\n",
    "\n",
    "# calllink2 = 'company-profile?stock_code=5250\n",
    "\n",
    "# codelist = Book1.xlsx\n",
    "\n",
    "# codelist\n",
    "\n",
    "# --[big.avillion],[7005,8885]\n",
    "\n",
    "\n",
    "# openedwebpage = openlink(defaultlink + calllink2)"
   ]
  },
  {
   "cell_type": "code",
   "execution_count": 1,
   "metadata": {},
   "outputs": [
    {
     "name": "stdout",
     "output_type": "stream",
     "text": [
      "Requirement already satisfied: selenium in c:\\users\\kit\\anaconda3\\lib\\site-packages (3.141.0)\n",
      "Requirement already satisfied: urllib3 in c:\\users\\kit\\anaconda3\\lib\\site-packages (from selenium) (1.25.11)\n"
     ]
    }
   ],
   "source": [
    "!pip install selenium\n"
   ]
  },
  {
   "cell_type": "code",
   "execution_count": 2,
   "metadata": {},
   "outputs": [],
   "source": [
    "import selenium\n",
    "from selenium import webdriver\n",
    "from selenium.webdriver.common.keys import Keys\n",
    "import time"
   ]
  },
  {
   "cell_type": "code",
   "execution_count": 18,
   "metadata": {},
   "outputs": [],
   "source": [
    "# driver = webdriver.Chrome('chromedriver.exe')\n",
    "# x = 2\n",
    "# driver.get('https://www.bursamalaysia.com/trade/trading_resources/listing_directory/main_market')\n",
    "# for entry in range(30):\n",
    "#     print('x = ',x)\n",
    "#     time.sleep(2)\n",
    "#     webelement = driver.find_elements_by_class_name(\"page-link\")\n",
    "#     if x == 28:\n",
    "#         print('all page done')\n",
    "#         break\n",
    "#     for element in webelement:\n",
    "#         try:\n",
    "#             if element.text == str(x):\n",
    "#                 element.send_keys(Keys.RETURN)\n",
    "#                 x = x+1\n",
    "#                 print('page switch done')\n",
    "#             else:\n",
    "#                 continue\n",
    "#         except:\n",
    "#             break\n"
   ]
  },
  {
   "cell_type": "code",
   "execution_count": 59,
   "metadata": {},
   "outputs": [
    {
     "name": "stdout",
     "output_type": "stream",
     "text": [
      "w =  2\n",
      "page switch done\n",
      "w =  3\n",
      "page switch done\n",
      "w =  4\n",
      "page switch done\n",
      "w =  5\n",
      "page switch done\n",
      "w =  6\n",
      "page switch done\n",
      "w =  7\n",
      "page switch done\n",
      "w =  8\n",
      "page switch done\n",
      "w =  9\n",
      "page switch done\n",
      "w =  10\n",
      "page switch done\n",
      "w =  11\n",
      "page switch done\n",
      "w =  12\n",
      "page switch done\n",
      "w =  13\n",
      "page switch done\n",
      "w =  14\n",
      "page switch done\n",
      "w =  15\n",
      "page switch done\n",
      "w =  16\n",
      "page switch done\n",
      "w =  17\n",
      "page switch done\n",
      "w =  18\n",
      "page switch done\n",
      "w =  19\n",
      "page switch done\n",
      "w =  20\n",
      "page switch done\n",
      "w =  21\n",
      "page switch done\n",
      "w =  22\n",
      "page switch done\n",
      "w =  23\n",
      "page switch done\n",
      "w =  24\n",
      "page switch done\n",
      "w =  25\n",
      "page switch done\n",
      "w =  26\n",
      "page switch done\n",
      "w =  27\n",
      "page switch done\n",
      "all done\n"
     ]
    }
   ],
   "source": [
    "driver = webdriver.Chrome('chromedriver.exe')\n",
    "w = 2\n",
    "driver.get('https://www.bursamalaysia.com/trade/trading_resources/listing_directory/main_market')\n",
    "for entry in range(30):\n",
    "    print('w = ',w)\n",
    "    time.sleep(2)\n",
    "    webelement = driver.find_elements_by_class_name(\"page-link\")\n",
    "    identifier = [x for x in webelement if str(w) == x.text]\n",
    "    time.sleep(1)\n",
    "    identifier[0].send_keys(Keys.RETURN)\n",
    "    w = w+1\n",
    "    print('page switch done')\n",
    "    if w == 28: \n",
    "        print('all done')\n",
    "        break"
   ]
  },
  {
   "cell_type": "code",
   "execution_count": null,
   "metadata": {},
   "outputs": [],
   "source": []
  }
 ],
 "metadata": {
  "kernelspec": {
   "display_name": "Python 3",
   "language": "python",
   "name": "python3"
  },
  "language_info": {
   "codemirror_mode": {
    "name": "ipython",
    "version": 3
   },
   "file_extension": ".py",
   "mimetype": "text/x-python",
   "name": "python",
   "nbconvert_exporter": "python",
   "pygments_lexer": "ipython3",
   "version": "3.8.3"
  }
 },
 "nbformat": 4,
 "nbformat_minor": 4
}
