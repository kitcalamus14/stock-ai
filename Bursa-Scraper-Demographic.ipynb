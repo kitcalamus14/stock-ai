{
 "cells": [
  {
   "cell_type": "code",
   "execution_count": 1,
   "metadata": {},
   "outputs": [],
   "source": [
    "# defaultlink = 'https://www.bursamalaysia.com/trade/trading_resources/listing_directory/'\n",
    "\n",
    "# calllink1 = 'main_market'\n",
    "\n",
    "# calllink2 = 'company-profile?stock_code=5250\n",
    "\n",
    "# codelist = Book1.xlsx\n",
    "\n",
    "# codelist\n",
    "\n",
    "# --[big.avillion],[7005,8885]\n",
    "\n",
    "\n",
    "# openedwebpage = openlink(defaultlink + calllink2)"
   ]
  },
  {
   "cell_type": "code",
   "execution_count": 2,
   "metadata": {},
   "outputs": [
    {
     "name": "stdout",
     "output_type": "stream",
     "text": [
      "Requirement already satisfied: selenium in c:\\users\\kit\\anaconda3\\lib\\site-packages (3.141.0)\n",
      "Requirement already satisfied: urllib3 in c:\\users\\kit\\anaconda3\\lib\\site-packages (from selenium) (1.25.11)\n"
     ]
    }
   ],
   "source": [
    "!pip install selenium\n"
   ]
  },
  {
   "cell_type": "code",
   "execution_count": 3,
   "metadata": {},
   "outputs": [],
   "source": [
    "import selenium\n",
    "from selenium import webdriver\n",
    "from selenium.webdriver.common.keys import Keys\n",
    "from selenium.webdriver.chrome.options import Options\n",
    "from selenium.webdriver.support.ui import Select\n",
    "import time\n",
    "import pandas as pd"
   ]
  },
  {
   "cell_type": "code",
   "execution_count": 4,
   "metadata": {},
   "outputs": [],
   "source": [
    "CHROME_PATH = 'C:\\Program Files (x86)\\Google\\Chrome\\Application\\chrome.exe'\n",
    "chrome_options = Options()\n",
    "chrome_options.add_argument(\"--headless\")\n",
    "WINDOW_SIZE = \"1920,1080\"\n",
    "chrome_options.add_argument(\"--window-size=%s\" % WINDOW_SIZE)"
   ]
  },
  {
   "cell_type": "code",
   "execution_count": 5,
   "metadata": {},
   "outputs": [],
   "source": [
    "##Retired\n",
    "# driver = webdriver.Chrome('chromedriver.exe')\n",
    "# x = 2\n",
    "# driver.get('https://www.bursamalaysia.com/trade/trading_resources/listing_directory/main_market')\n",
    "# for entry in range(30):\n",
    "#     print('x = ',x)\n",
    "#     time.sleep(2)\n",
    "#     webelement = driver.find_elements_by_class_name(\"page-link\")\n",
    "#     if x == 28:\n",
    "#         print('all page done')\n",
    "#         break\n",
    "#     for element in webelement:\n",
    "#         try:\n",
    "#             if element.text == str(x):\n",
    "#                 element.send_keys(Keys.RETURN)\n",
    "#                 x = x+1\n",
    "#                 print('page switch done')\n",
    "#             else:\n",
    "#                 continue\n",
    "#         except:\n",
    "#             break\n",
    "\n",
    "#------------------------------------------------------\n",
    "\n",
    "##Retired\n",
    "#,chrome_options = chrome_options\n",
    "# driver = webdriver.Chrome('chromedriver.exe')\n",
    "# w = 2\n",
    "# driver.get('https://www.bursamalaysia.com/trade/trading_resources/listing_directory/main_market')\n",
    "# time.sleep(5)\n",
    "# for entry in range(1):\n",
    "#     print('w = ',w)\n",
    "#     webelement = driver.find_elements_by_class_name(\"page-link\")\n",
    "#     time.sleep(1)\n",
    "#     code_element = driver.find_elements_by_class_name('text-left position-relative')\n",
    "#     time.sleep(1)\n",
    "#     identifier = [x for x in webelement if str(w) == x.text]\n",
    "#     time.sleep(1)\n",
    "#     identifier[0].send_keys(Keys.RETURN)\n",
    "#     w = w+1\n",
    "#     print('page switch done')\n",
    "#     time.sleep(1.5)\n",
    "#     if w == 28:\n",
    "#         print('page switching completed')\n",
    "#         break\n",
    "#         driver.close()"
   ]
  },
  {
   "cell_type": "code",
   "execution_count": 6,
   "metadata": {},
   "outputs": [],
   "source": [
    "driver = webdriver.Chrome('chromedriver.exe')\n",
    "driver.get('https://www.bursamalaysia.com/trade/trading_resources/listing_directory/main_market')\n",
    "time.sleep(2)\n",
    "select = Select(driver.find_element_by_name('DataTables_Table_0_length'))\n",
    "time.sleep(2)\n",
    "select.select_by_visible_text('All')\n",
    "time.sleep(2)\n",
    "code_locator = driver.find_element_by_xpath(\"//tbody\")\n",
    "time.sleep(1)\n",
    "code_locator.get_attribute('a href')\n",
    "time.sleep(1)\n",
    "lnks = code_locator.find_elements_by_tag_name(\"a\")\n",
    "\n",
    "counter = 1\n",
    "officialsite = []\n",
    "bursasite = []\n",
    "for lnk in lnks:\n",
    "    if lnk.get_attribute == 'javascript: void(0)': continue\n",
    "    elif (counter% 2) == 0:\n",
    "        officialsite.append(lnk.get_attribute('href'))\n",
    "        counter = counter + 1\n",
    "    else:\n",
    "        bursasite.append(lnk.get_attribute('href'))\n",
    "        counter = counter +1"
   ]
  },
  {
   "cell_type": "code",
   "execution_count": 7,
   "metadata": {},
   "outputs": [],
   "source": [
    "counter = 1\n",
    "officialsite = []\n",
    "bursasite = []\n",
    "for lnk in lnks:\n",
    "    if str(lnk.get_attribute) == str('javascript: void(0)'):\n",
    "        continue\n",
    "    elif (counter% 2) == 0:\n",
    "        officialsite.append(lnk.get_attribute('href'))\n",
    "        counter = counter + 1\n",
    "    else:\n",
    "        bursasite.append(lnk.get_attribute('href'))\n",
    "        counter = counter +1"
   ]
  },
  {
   "cell_type": "code",
   "execution_count": 8,
   "metadata": {},
   "outputs": [],
   "source": [
    "counter = 1\n",
    "officialsite = []\n",
    "bursasite = []\n",
    "for lnk in lnks:\n",
    "    if 'https://www.bursamalaysia.com/trade/trading_resources/' in lnk.get_attribute('href'):\n",
    "        bursasite.append(lnk.get_attribute('href'))\n",
    "        continue\n",
    "    elif 'http' in lnk.get_attribute('href'):\n",
    "        officialsite.append(lnk.get_attribute('href'))\n",
    "        continue\n",
    "    else:\n",
    "        continue\n"
   ]
  },
  {
   "cell_type": "code",
   "execution_count": 9,
   "metadata": {},
   "outputs": [],
   "source": [
    "bursasite[:] = [x for x in bursasite if 'https://www.bursamalaysia.com/trade/trading_resources/listing_directory/company-profile?stock_code=KLCC__PROPERTY__HOLDINGS__BERHAD__stapled__5235SS' not in x]"
   ]
  },
  {
   "cell_type": "code",
   "execution_count": 10,
   "metadata": {},
   "outputs": [],
   "source": [
    "# officialsite[:] = [x for x in officialsite if 'javascript: void(0)' not in x]\n",
    "# bursasite[:] = [x for x in bursasite if 'javascript: void(0)' not in x]"
   ]
  },
  {
   "cell_type": "code",
   "execution_count": 11,
   "metadata": {},
   "outputs": [
    {
     "name": "stdout",
     "output_type": "stream",
     "text": [
      "785 785 785\n"
     ]
    }
   ],
   "source": [
    "companyname = []\n",
    "company = code_locator.find_elements_by_class_name('company-announcement-link')\n",
    "for entry in company:\n",
    "    companyname.append(entry.text)\n",
    "#failsafe\n",
    "print(len(officialsite),len(bursasite),len(companyname))"
   ]
  },
  {
   "cell_type": "code",
   "execution_count": 13,
   "metadata": {},
   "outputs": [],
   "source": [
    "df = pd.DataFrame(data = [companyname,officialsite,bursasite])\n",
    "df = df.transpose()\n",
    "df['code'] = df.iloc[:,2].str.split('code=',1).str[1]\n",
    "df.to_csv('demographic.csv')"
   ]
  },
  {
   "cell_type": "code",
   "execution_count": 14,
   "metadata": {},
   "outputs": [
    {
     "data": {
      "text/html": [
       "<div>\n",
       "<style scoped>\n",
       "    .dataframe tbody tr th:only-of-type {\n",
       "        vertical-align: middle;\n",
       "    }\n",
       "\n",
       "    .dataframe tbody tr th {\n",
       "        vertical-align: top;\n",
       "    }\n",
       "\n",
       "    .dataframe thead th {\n",
       "        text-align: right;\n",
       "    }\n",
       "</style>\n",
       "<table border=\"1\" class=\"dataframe\">\n",
       "  <thead>\n",
       "    <tr style=\"text-align: right;\">\n",
       "      <th></th>\n",
       "      <th>0</th>\n",
       "      <th>1</th>\n",
       "      <th>2</th>\n",
       "      <th>code</th>\n",
       "    </tr>\n",
       "  </thead>\n",
       "  <tbody>\n",
       "    <tr>\n",
       "      <th>0</th>\n",
       "      <td>7-ELEVEN MALAYSIA HOLDINGS BERHAD</td>\n",
       "      <td>http://www.7eleven.com.my/</td>\n",
       "      <td>https://www.bursamalaysia.com/trade/trading_re...</td>\n",
       "      <td>5250</td>\n",
       "    </tr>\n",
       "    <tr>\n",
       "      <th>1</th>\n",
       "      <td>A-RANK BERHAD</td>\n",
       "      <td>http://www.arank.com.my/</td>\n",
       "      <td>https://www.bursamalaysia.com/trade/trading_re...</td>\n",
       "      <td>7214</td>\n",
       "    </tr>\n",
       "    <tr>\n",
       "      <th>2</th>\n",
       "      <td>ABLEGROUP BERHAD</td>\n",
       "      <td>http://www.ablegroup.com.my/</td>\n",
       "      <td>https://www.bursamalaysia.com/trade/trading_re...</td>\n",
       "      <td>7086</td>\n",
       "    </tr>\n",
       "    <tr>\n",
       "      <th>3</th>\n",
       "      <td>ABM FUJIYA BERHAD</td>\n",
       "      <td>http://www.abmfujiya.com.my/</td>\n",
       "      <td>https://www.bursamalaysia.com/trade/trading_re...</td>\n",
       "      <td>5198</td>\n",
       "    </tr>\n",
       "    <tr>\n",
       "      <th>4</th>\n",
       "      <td>ACME HOLDINGS BERHAD</td>\n",
       "      <td>https://www.acmeholdings.com.my/</td>\n",
       "      <td>https://www.bursamalaysia.com/trade/trading_re...</td>\n",
       "      <td>7131</td>\n",
       "    </tr>\n",
       "    <tr>\n",
       "      <th>...</th>\n",
       "      <td>...</td>\n",
       "      <td>...</td>\n",
       "      <td>...</td>\n",
       "      <td>...</td>\n",
       "    </tr>\n",
       "    <tr>\n",
       "      <th>780</th>\n",
       "      <td>YTL HOSPITALITY REIT</td>\n",
       "      <td>http://www.starhillreit.com/</td>\n",
       "      <td>https://www.bursamalaysia.com/trade/trading_re...</td>\n",
       "      <td>5109</td>\n",
       "    </tr>\n",
       "    <tr>\n",
       "      <th>781</th>\n",
       "      <td>YTL POWER INTERNATIONAL BHD</td>\n",
       "      <td>http://www.ytl.com.my/index.asp</td>\n",
       "      <td>https://www.bursamalaysia.com/trade/trading_re...</td>\n",
       "      <td>6742</td>\n",
       "    </tr>\n",
       "    <tr>\n",
       "      <th>782</th>\n",
       "      <td>ZECON BERHAD</td>\n",
       "      <td>http://www.zecon.com.my/</td>\n",
       "      <td>https://www.bursamalaysia.com/trade/trading_re...</td>\n",
       "      <td>7028</td>\n",
       "    </tr>\n",
       "    <tr>\n",
       "      <th>783</th>\n",
       "      <td>ZELAN BERHAD</td>\n",
       "      <td>http://www.zelan.com/</td>\n",
       "      <td>https://www.bursamalaysia.com/trade/trading_re...</td>\n",
       "      <td>2283</td>\n",
       "    </tr>\n",
       "    <tr>\n",
       "      <th>784</th>\n",
       "      <td>ZHULIAN CORPORATION BERHAD</td>\n",
       "      <td>http://www.zhulian.com/</td>\n",
       "      <td>https://www.bursamalaysia.com/trade/trading_re...</td>\n",
       "      <td>5131</td>\n",
       "    </tr>\n",
       "  </tbody>\n",
       "</table>\n",
       "<p>785 rows × 4 columns</p>\n",
       "</div>"
      ],
      "text/plain": [
       "                                     0                                 1  \\\n",
       "0    7-ELEVEN MALAYSIA HOLDINGS BERHAD        http://www.7eleven.com.my/   \n",
       "1                        A-RANK BERHAD          http://www.arank.com.my/   \n",
       "2                     ABLEGROUP BERHAD      http://www.ablegroup.com.my/   \n",
       "3                    ABM FUJIYA BERHAD      http://www.abmfujiya.com.my/   \n",
       "4                 ACME HOLDINGS BERHAD  https://www.acmeholdings.com.my/   \n",
       "..                                 ...                               ...   \n",
       "780               YTL HOSPITALITY REIT      http://www.starhillreit.com/   \n",
       "781        YTL POWER INTERNATIONAL BHD   http://www.ytl.com.my/index.asp   \n",
       "782                       ZECON BERHAD          http://www.zecon.com.my/   \n",
       "783                       ZELAN BERHAD             http://www.zelan.com/   \n",
       "784         ZHULIAN CORPORATION BERHAD           http://www.zhulian.com/   \n",
       "\n",
       "                                                     2  code  \n",
       "0    https://www.bursamalaysia.com/trade/trading_re...  5250  \n",
       "1    https://www.bursamalaysia.com/trade/trading_re...  7214  \n",
       "2    https://www.bursamalaysia.com/trade/trading_re...  7086  \n",
       "3    https://www.bursamalaysia.com/trade/trading_re...  5198  \n",
       "4    https://www.bursamalaysia.com/trade/trading_re...  7131  \n",
       "..                                                 ...   ...  \n",
       "780  https://www.bursamalaysia.com/trade/trading_re...  5109  \n",
       "781  https://www.bursamalaysia.com/trade/trading_re...  6742  \n",
       "782  https://www.bursamalaysia.com/trade/trading_re...  7028  \n",
       "783  https://www.bursamalaysia.com/trade/trading_re...  2283  \n",
       "784  https://www.bursamalaysia.com/trade/trading_re...  5131  \n",
       "\n",
       "[785 rows x 4 columns]"
      ]
     },
     "execution_count": 14,
     "metadata": {},
     "output_type": "execute_result"
    }
   ],
   "source": [
    "df"
   ]
  },
  {
   "cell_type": "code",
   "execution_count": null,
   "metadata": {},
   "outputs": [],
   "source": []
  }
 ],
 "metadata": {
  "kernelspec": {
   "display_name": "Python 3",
   "language": "python",
   "name": "python3"
  },
  "language_info": {
   "codemirror_mode": {
    "name": "ipython",
    "version": 3
   },
   "file_extension": ".py",
   "mimetype": "text/x-python",
   "name": "python",
   "nbconvert_exporter": "python",
   "pygments_lexer": "ipython3",
   "version": "3.8.3"
  }
 },
 "nbformat": 4,
 "nbformat_minor": 4
}
