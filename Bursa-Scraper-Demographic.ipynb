{
 "cells": [
  {
   "cell_type": "code",
   "execution_count": 1,
   "metadata": {},
   "outputs": [],
   "source": [
    "# defaultlink = 'https://www.bursamalaysia.com/trade/trading_resources/listing_directory/'\n",
    "\n",
    "# calllink1 = 'main_market'\n",
    "\n",
    "# calllink2 = 'company-profile?stock_code=5250\n",
    "\n",
    "# codelist = Book1.xlsx\n",
    "\n",
    "# codelist\n",
    "\n",
    "# --[big.avillion],[7005,8885]\n",
    "\n",
    "\n",
    "# openedwebpage = openlink(defaultlink + calllink2)"
   ]
  },
  {
   "cell_type": "code",
   "execution_count": 2,
   "metadata": {},
   "outputs": [
    {
     "name": "stdout",
     "output_type": "stream",
     "text": [
      "Requirement already satisfied: selenium in c:\\users\\kit\\anaconda3\\lib\\site-packages (3.141.0)\n",
      "Requirement already satisfied: urllib3 in c:\\users\\kit\\anaconda3\\lib\\site-packages (from selenium) (1.25.11)\n"
     ]
    }
   ],
   "source": [
    "!pip install selenium\n"
   ]
  },
  {
   "cell_type": "code",
   "execution_count": 23,
   "metadata": {},
   "outputs": [],
   "source": [
    "import selenium\n",
    "from selenium import webdriver\n",
    "from selenium.webdriver.common.keys import Keys\n",
    "from selenium.webdriver.chrome.options import Options\n",
    "from selenium.webdriver.support.ui import Select\n",
    "import time\n",
    "import pandas as pd\n",
    "import numpy as np"
   ]
  },
  {
   "cell_type": "code",
   "execution_count": 4,
   "metadata": {},
   "outputs": [],
   "source": [
    "CHROME_PATH = 'C:\\Program Files (x86)\\Google\\Chrome\\Application\\chrome.exe'\n",
    "chrome_options = Options()\n",
    "chrome_options.add_argument(\"--headless\")\n",
    "WINDOW_SIZE = \"1920,1080\"\n",
    "chrome_options.add_argument(\"--window-size=%s\" % WINDOW_SIZE)"
   ]
  },
  {
   "cell_type": "code",
   "execution_count": 5,
   "metadata": {},
   "outputs": [],
   "source": [
    "##Retired\n",
    "# driver = webdriver.Chrome('chromedriver.exe')\n",
    "# x = 2\n",
    "# driver.get('https://www.bursamalaysia.com/trade/trading_resources/listing_directory/main_market')\n",
    "# for entry in range(30):\n",
    "#     print('x = ',x)\n",
    "#     time.sleep(2)\n",
    "#     webelement = driver.find_elements_by_class_name(\"page-link\")\n",
    "#     if x == 28:\n",
    "#         print('all page done')\n",
    "#         break\n",
    "#     for element in webelement:\n",
    "#         try:\n",
    "#             if element.text == str(x):\n",
    "#                 element.send_keys(Keys.RETURN)\n",
    "#                 x = x+1\n",
    "#                 print('page switch done')\n",
    "#             else:\n",
    "#                 continue\n",
    "#         except:\n",
    "#             break\n",
    "\n",
    "#------------------------------------------------------\n",
    "\n",
    "##Retired\n",
    "#,chrome_options = chrome_options\n",
    "# driver = webdriver.Chrome('chromedriver.exe')\n",
    "# w = 2\n",
    "# driver.get('https://www.bursamalaysia.com/trade/trading_resources/listing_directory/main_market')\n",
    "# time.sleep(5)\n",
    "# for entry in range(1):\n",
    "#     print('w = ',w)\n",
    "#     webelement = driver.find_elements_by_class_name(\"page-link\")\n",
    "#     time.sleep(1)\n",
    "#     code_element = driver.find_elements_by_class_name('text-left position-relative')\n",
    "#     time.sleep(1)\n",
    "#     identifier = [x for x in webelement if str(w) == x.text]\n",
    "#     time.sleep(1)\n",
    "#     identifier[0].send_keys(Keys.RETURN)\n",
    "#     w = w+1\n",
    "#     print('page switch done')\n",
    "#     time.sleep(1.5)\n",
    "#     if w == 28:\n",
    "#         print('page switching completed')\n",
    "#         break\n",
    "#         driver.close()"
   ]
  },
  {
   "cell_type": "code",
   "execution_count": 6,
   "metadata": {},
   "outputs": [],
   "source": [
    "driver = webdriver.Chrome('chromedriver.exe')\n",
    "driver.get('https://www.bursamalaysia.com/trade/trading_resources/listing_directory/main_market')\n",
    "time.sleep(2)\n",
    "select = Select(driver.find_element_by_name('DataTables_Table_0_length'))\n",
    "time.sleep(2)\n",
    "select.select_by_visible_text('All')\n",
    "time.sleep(2)\n",
    "code_locator = driver.find_element_by_xpath(\"//tbody\")\n",
    "time.sleep(1)\n",
    "code_locator.get_attribute('a href')\n",
    "time.sleep(1)\n",
    "lnks = code_locator.find_elements_by_tag_name(\"a\")\n",
    "\n",
    "counter = 1\n",
    "officialsite = []\n",
    "bursasite = []\n",
    "for lnk in lnks:\n",
    "    if lnk.get_attribute == 'javascript: void(0)': continue\n",
    "    elif (counter% 2) == 0:\n",
    "        officialsite.append(lnk.get_attribute('href'))\n",
    "        counter = counter + 1\n",
    "    else:\n",
    "        bursasite.append(lnk.get_attribute('href'))\n",
    "        counter = counter +1"
   ]
  },
  {
   "cell_type": "code",
   "execution_count": 7,
   "metadata": {},
   "outputs": [],
   "source": [
    "counter = 1\n",
    "officialsite = []\n",
    "bursasite = []\n",
    "for lnk in lnks:\n",
    "    if str(lnk.get_attribute) == str('javascript: void(0)'):\n",
    "        continue\n",
    "    elif (counter% 2) == 0:\n",
    "        officialsite.append(lnk.get_attribute('href'))\n",
    "        counter = counter + 1\n",
    "    else:\n",
    "        bursasite.append(lnk.get_attribute('href'))\n",
    "        counter = counter +1"
   ]
  },
  {
   "cell_type": "code",
   "execution_count": 8,
   "metadata": {},
   "outputs": [],
   "source": [
    "counter = 1\n",
    "officialsite = []\n",
    "bursasite = []\n",
    "for lnk in lnks:\n",
    "    if 'https://www.bursamalaysia.com/trade/trading_resources/' in lnk.get_attribute('href'):\n",
    "        bursasite.append(lnk.get_attribute('href'))\n",
    "        continue\n",
    "    elif 'http' in lnk.get_attribute('href'):\n",
    "        officialsite.append(lnk.get_attribute('href'))\n",
    "        continue\n",
    "    else:\n",
    "        continue\n"
   ]
  },
  {
   "cell_type": "code",
   "execution_count": 9,
   "metadata": {},
   "outputs": [],
   "source": [
    "bursasite[:] = [x for x in bursasite if 'https://www.bursamalaysia.com/trade/trading_resources/listing_directory/company-profile?stock_code=KLCC__PROPERTY__HOLDINGS__BERHAD__stapled__5235SS' not in x]"
   ]
  },
  {
   "cell_type": "code",
   "execution_count": 10,
   "metadata": {},
   "outputs": [],
   "source": [
    "# officialsite[:] = [x for x in officialsite if 'javascript: void(0)' not in x]\n",
    "# bursasite[:] = [x for x in bursasite if 'javascript: void(0)' not in x]"
   ]
  },
  {
   "cell_type": "code",
   "execution_count": 11,
   "metadata": {},
   "outputs": [
    {
     "name": "stdout",
     "output_type": "stream",
     "text": [
      "783 783 783\n"
     ]
    }
   ],
   "source": [
    "companyname = []\n",
    "company = code_locator.find_elements_by_class_name('company-announcement-link')\n",
    "for entry in company:\n",
    "    companyname.append(entry.text)\n",
    "#failsafe\n",
    "print(len(officialsite),len(bursasite),len(companyname))"
   ]
  },
  {
   "cell_type": "code",
   "execution_count": 12,
   "metadata": {},
   "outputs": [],
   "source": [
    "df = pd.DataFrame(data = [companyname,officialsite,bursasite])\n",
    "df = df.transpose()\n",
    "df.columns = ['company','official_site','bursa_site']\n",
    "df['code'] = df.iloc[:,2].str.split('code=',1).str[1]"
   ]
  },
  {
   "cell_type": "code",
   "execution_count": 35,
   "metadata": {},
   "outputs": [],
   "source": [
    "df.drop(df[pd.to_numeric(df['code'],errors='coerce').isnull()].index,inplace=True)\n",
    "df[pd.to_numeric(df['code'],errors='coerce').isnull()].index\n",
    "df.to_csv('demographic.csv',index=False)"
   ]
  }
 ],
 "metadata": {
  "kernelspec": {
   "display_name": "Python 3",
   "language": "python",
   "name": "python3"
  },
  "language_info": {
   "codemirror_mode": {
    "name": "ipython",
    "version": 3
   },
   "file_extension": ".py",
   "mimetype": "text/x-python",
   "name": "python",
   "nbconvert_exporter": "python",
   "pygments_lexer": "ipython3",
   "version": "3.8.3"
  }
 },
 "nbformat": 4,
 "nbformat_minor": 4
}
